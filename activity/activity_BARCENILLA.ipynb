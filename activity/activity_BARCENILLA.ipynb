{
 "cells": [
  {
   "cell_type": "markdown",
   "metadata": {},
   "source": [
    "# Clustering Activity"
   ]
  },
  {
   "cell_type": "code",
   "execution_count": 1,
   "metadata": {},
   "outputs": [],
   "source": [
    "# Import necessary libraries\n",
    "from sklearn.datasets import make_blobs\n",
    "from sklearn.cluster import KMeans, AgglomerativeClustering, SpectralClustering\n",
    "from sklearn.metrics import adjusted_rand_score\n",
    "import skfuzzy.cluster as fuzz\n",
    "import numpy as np\n",
    "\n",
    "# Generate a hypothetical dataset\n",
    "X, y_true = make_blobs(n_samples=300, centers=4, random_state=42, cluster_std=1.0)"
   ]
  },
  {
   "cell_type": "markdown",
   "metadata": {},
   "source": [
    "Exercise: Evaluate four clustering algorithms (K-Means, Fuzzy C-Means, Spectral, and Agglomerative)\n",
    "1. Apply each clustering algorithm to the dataset where:\n",
    "- cluster_count = 4\n",
    "- random_state = 42 (where applicable)\n",
    "- do not specify affinity, metric, algo, init, linkage (if applicable)\n",
    "2. Use the **Adjusted Rand index** and **Silhouette Score** to evaluate the clustering performance.\n",
    "3. Compare the performance of the algorithms based on the aforementioned metrics and decide which algorithm is best suited for the data given."
   ]
  },
  {
   "cell_type": "code",
   "execution_count": 2,
   "metadata": {},
   "outputs": [
    {
     "name": "stderr",
     "output_type": "stream",
     "text": [
      "c:\\Users\\Barcenilla\\AppData\\Local\\Programs\\Python\\Python311\\Lib\\site-packages\\sklearn\\cluster\\_kmeans.py:1412: FutureWarning: The default value of `n_init` will change from 10 to 'auto' in 1.4. Set the value of `n_init` explicitly to suppress the warning\n",
      "  super()._check_params_vs_input(X, default_n_init=10)\n"
     ]
    },
    {
     "name": "stdout",
     "output_type": "stream",
     "text": [
      "Adjusted Rand Index:\n",
      "K-Means: 0.9910811504997546\n",
      "Fuzzy C-Means: 0.9910811504997546\n",
      "Spectral Clustering: 0.9910811504997546\n",
      "Agglomerative Clustering: 0.9910811504997546\n",
      "\n",
      "Silhouette Score:\n",
      "K-Means: 0.7915830011443039\n",
      "Fuzzy C-Means: 0.7915830011443039\n",
      "Spectral Clustering: 0.7915830011443039\n",
      "Agglomerative Clustering: 0.7915830011443039\n"
     ]
    }
   ],
   "source": [
    "from sklearn.metrics import silhouette_score\n",
    "\n",
    "# K-Means\n",
    "kmeans = KMeans(n_clusters=4, random_state=42)\n",
    "kmeans_labels = kmeans.fit_predict(X)\n",
    "kmeans_ari = adjusted_rand_score(y_true, kmeans_labels)\n",
    "kmeans_silhouette = silhouette_score(X, kmeans_labels)\n",
    "\n",
    "# Fuzzy C-Means\n",
    "fcm_centers, fcm_labels, _, _, _, _, _ = fuzz.cmeans(X.T, 4, m=2, error=0.005, maxiter=1000, init=None)\n",
    "fcm_labels_hard = np.argmax(fcm_labels, axis=0)\n",
    "fcm_ari = adjusted_rand_score(y_true, fcm_labels_hard)\n",
    "fcm_silhouette = silhouette_score(X, fcm_labels_hard)\n",
    "\n",
    "# Spectral Clustering\n",
    "spectral = SpectralClustering(n_clusters=4, random_state=42)\n",
    "spectral_labels = spectral.fit_predict(X)\n",
    "spectral_ari = adjusted_rand_score(y_true, spectral_labels)\n",
    "spectral_silhouette = silhouette_score(X, spectral_labels)\n",
    "\n",
    "# Agglomerative Clustering\n",
    "agglomerative = AgglomerativeClustering(n_clusters=4)\n",
    "agglomerative_labels = agglomerative.fit_predict(X)\n",
    "agglomerative_ari = adjusted_rand_score(y_true, agglomerative_labels)\n",
    "agglomerative_silhouette = silhouette_score(X, agglomerative_labels)\n",
    "\n",
    "# Compare the performance\n",
    "print(\"Adjusted Rand Index:\")\n",
    "print(f\"K-Means: {kmeans_ari}\")\n",
    "print(f\"Fuzzy C-Means: {fcm_ari}\")\n",
    "print(f\"Spectral Clustering: {spectral_ari}\")\n",
    "print(f\"Agglomerative Clustering: {agglomerative_ari}\")\n",
    "\n",
    "print(\"\\nSilhouette Score:\")\n",
    "print(f\"K-Means: {kmeans_silhouette}\")\n",
    "print(f\"Fuzzy C-Means: {fcm_silhouette}\")\n",
    "print(f\"Spectral Clustering: {spectral_silhouette}\")\n",
    "print(f\"Agglomerative Clustering: {agglomerative_silhouette}\")"
   ]
  },
  {
   "cell_type": "code",
   "execution_count": null,
   "metadata": {},
   "outputs": [],
   "source": []
  }
 ],
 "metadata": {
  "kernelspec": {
   "display_name": "Python 3",
   "language": "python",
   "name": "python3"
  },
  "language_info": {
   "codemirror_mode": {
    "name": "ipython",
    "version": 3
   },
   "file_extension": ".py",
   "mimetype": "text/x-python",
   "name": "python",
   "nbconvert_exporter": "python",
   "pygments_lexer": "ipython3",
   "version": "3.11.5"
  }
 },
 "nbformat": 4,
 "nbformat_minor": 2
}
